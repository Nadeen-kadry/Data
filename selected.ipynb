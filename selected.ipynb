{
  "nbformat": 4,
  "nbformat_minor": 0,
  "metadata": {
    "colab": {
      "name": "selected.ipynb",
      "provenance": [],
      "collapsed_sections": [],
      "toc_visible": true,
      "machine_shape": "hm",
      "include_colab_link": true
    },
    "kernelspec": {
      "name": "python3",
      "display_name": "Python 3"
    },
    "accelerator": "GPU"
  },
  "cells": [
    {
      "cell_type": "markdown",
      "metadata": {
        "id": "view-in-github",
        "colab_type": "text"
      },
      "source": [
        "<a href=\"https://colab.research.google.com/github/Nadeen-kadry/Data/blob/master/selected.ipynb\" target=\"_parent\"><img src=\"https://colab.research.google.com/assets/colab-badge.svg\" alt=\"Open In Colab\"/></a>"
      ]
    },
    {
      "cell_type": "code",
      "metadata": {
        "id": "u7vdzNlhBEzg",
        "colab_type": "code",
        "colab": {}
      },
      "source": [
        "#from google.colab import drive\n",
        "#drive.mount('/content/gdrive')"
      ],
      "execution_count": 0,
      "outputs": []
    },
    {
      "cell_type": "code",
      "metadata": {
        "id": "kJAnE7A8Aw3s",
        "colab_type": "code",
        "outputId": "132ae2c9-1121-4c8a-ff23-d032743d8e89",
        "colab": {
          "base_uri": "https://localhost:8080/",
          "height": 34
        }
      },
      "source": [
        "# !pwd"
      ],
      "execution_count": 0,
      "outputs": [
        {
          "output_type": "stream",
          "text": [
            "/\n"
          ],
          "name": "stdout"
        }
      ]
    },
    {
      "cell_type": "code",
      "metadata": {
        "id": "1INNZmAgH4i_",
        "colab_type": "code",
        "outputId": "f8f0a408-c614-4f48-8f0d-cd6781b0793a",
        "colab": {
          "base_uri": "https://localhost:8080/",
          "height": 34
        }
      },
      "source": [
        "# cd /content/sample_data/ "
      ],
      "execution_count": 0,
      "outputs": [
        {
          "output_type": "stream",
          "text": [
            "/content/sample_data\n"
          ],
          "name": "stdout"
        }
      ]
    },
    {
      "cell_type": "code",
      "metadata": {
        "id": "wEP0FiMeIigX",
        "colab_type": "code",
        "outputId": "cfe9eae4-aa3f-49d8-898f-45acacae551a",
        "colab": {
          "base_uri": "https://localhost:8080/",
          "height": 119
        }
      },
      "source": [
        "!git clone https://github.com/Nadeen-kadry/Data.git"
      ],
      "execution_count": 1,
      "outputs": [
        {
          "output_type": "stream",
          "text": [
            "Cloning into 'Data'...\n",
            "remote: Enumerating objects: 10032, done.\u001b[K\n",
            "remote: Total 10032 (delta 0), reused 0 (delta 0), pack-reused 10032\u001b[K\n",
            "Receiving objects: 100% (10032/10032), 815.70 MiB | 54.64 MiB/s, done.\n",
            "Resolving deltas: 100% (2/2), done.\n",
            "Checking out files: 100% (10137/10137), done.\n"
          ],
          "name": "stdout"
        }
      ]
    },
    {
      "cell_type": "code",
      "metadata": {
        "id": "b-Oz57D3C3Ha",
        "colab_type": "code",
        "outputId": "47c5bb2f-634c-4901-cee9-68155a2147dc",
        "colab": {
          "base_uri": "https://localhost:8080/",
          "height": 34
        }
      },
      "source": [
        "import cv2\n",
        "import glob\n",
        "import pickle\n",
        "import numpy as np\n",
        "import pandas as pd\n",
        "\n",
        "\n",
        "# function to read and resize images, get labels and store them into np array\n",
        "def get_image_label_resize(filelist, dim=(45,45), dataset = 'Train'):\n",
        "    x = np.array([cv2.resize(cv2.imread(fname), dim, interpolation = cv2.INTER_AREA)  for fname in filelist])\n",
        "    y = np.array([fname.split('/')[-1].split('_')[0] for fname in filelist])\n",
        "        \n",
        "    #print('{} examples loaded for label {}'.format(x.shape[0], label))\n",
        "    return (x, y)\n",
        "\n",
        "filelist = glob.glob('/content/Data/part1/*.jpg')\n",
        "trainx, trainy = get_image_label_resize(filelist)\n",
        "print(trainy)\n"
      ],
      "execution_count": 35,
      "outputs": [
        {
          "output_type": "stream",
          "text": [
            "['14' '6' '22' ... '30' '4' '2']\n"
          ],
          "name": "stdout"
        }
      ]
    },
    {
      "cell_type": "code",
      "metadata": {
        "id": "zyCf5hBKDKVg",
        "colab_type": "code",
        "outputId": "c8330efc-a7cd-4ebe-f024-f047ed91e9d8",
        "colab": {
          "base_uri": "https://localhost:8080/",
          "height": 51
        }
      },
      "source": [
        "print(trainx.shape)\n",
        "print(trainy.shape)"
      ],
      "execution_count": 2,
      "outputs": [
        {
          "output_type": "stream",
          "text": [
            "(10137,)\n",
            "(10137,)\n"
          ],
          "name": "stdout"
        }
      ]
    },
    {
      "cell_type": "code",
      "metadata": {
        "id": "IwIWaGyDiUeX",
        "colab_type": "code",
        "colab": {}
      },
      "source": [
        "label_to_id_dict = {v:i for i,v in enumerate(np.unique(trainy))}\n",
        "id_to_label_dict = {v: k for k, v in label_to_id_dict.items()}"
      ],
      "execution_count": 0,
      "outputs": []
    },
    {
      "cell_type": "code",
      "metadata": {
        "id": "H97dQDlCirIG",
        "colab_type": "code",
        "colab": {}
      },
      "source": [
        "#id_to_label_dict"
      ],
      "execution_count": 0,
      "outputs": []
    },
    {
      "cell_type": "code",
      "metadata": {
        "id": "bjnrALrmi36-",
        "colab_type": "code",
        "colab": {}
      },
      "source": [
        "label_ids = np.array([label_to_id_dict[x] for x in trainy])"
      ],
      "execution_count": 0,
      "outputs": []
    },
    {
      "cell_type": "code",
      "metadata": {
        "id": "94fV-t8HrRjF",
        "colab_type": "code",
        "colab": {}
      },
      "source": [
        "from sklearn.preprocessing import StandardScaler\n",
        "from sklearn.decomposition import PCA\n",
        "\n",
        "scaler = StandardScaler()\n",
        "images_scaled = scaler.fit_transform([i.flatten() for i in trainx])\n",
        "pca = PCA(n_components=50)\n",
        "pca_result = pca.fit_transform(images_scaled)\n"
      ],
      "execution_count": 0,
      "outputs": []
    },
    {
      "cell_type": "code",
      "metadata": {
        "id": "3yeupZqhsv5U",
        "colab_type": "code",
        "outputId": "442f0576-b8ee-44dd-da18-8204c0343619",
        "colab": {
          "base_uri": "https://localhost:8080/",
          "height": 51
        }
      },
      "source": [
        "from sklearn.model_selection import train_test_split\n",
        "\n",
        "X_train, X_test, y_train, y_test = train_test_split(pca_result, label_ids, test_size=0.25, random_state=42)\n",
        "print (X_train.shape, y_train.shape)\n",
        "print (X_test.shape, y_test.shape)"
      ],
      "execution_count": 39,
      "outputs": [
        {
          "output_type": "stream",
          "text": [
            "(7602, 50) (7602,)\n",
            "(2535, 50) (2535,)\n"
          ],
          "name": "stdout"
        }
      ]
    },
    {
      "cell_type": "code",
      "metadata": {
        "id": "y6_t5E_MmnPk",
        "colab_type": "code",
        "colab": {}
      },
      "source": [
        "from sklearn.svm import SVC\n",
        "from sklearn.metrics import accuracy_score\n",
        "\n",
        "# define model\n",
        "model = SVC()\n",
        "#fit of data{}\n",
        "model = model.fit(X_train, y_train)\n"
      ],
      "execution_count": 0,
      "outputs": []
    },
    {
      "cell_type": "code",
      "metadata": {
        "id": "Y9kSqFjktRbm",
        "colab_type": "code",
        "colab": {}
      },
      "source": [
        "test_predictions = model.predict(X_test)"
      ],
      "execution_count": 0,
      "outputs": []
    },
    {
      "cell_type": "code",
      "metadata": {
        "id": "g6rFkZcYteCd",
        "colab_type": "code",
        "colab": {
          "base_uri": "https://localhost:8080/",
          "height": 34
        },
        "outputId": "378de261-1904-46bd-dceb-d69d87150a34"
      },
      "source": [
        "precision = accuracy_score(test_predictions, y_test) * 100\n",
        "print(\"Accuracy with SVM: {0:.6f}\".format(precision))"
      ],
      "execution_count": 43,
      "outputs": [
        {
          "output_type": "stream",
          "text": [
            "Accuracy with SVM: 14.398422\n"
          ],
          "name": "stdout"
        }
      ]
    }
  ]
}